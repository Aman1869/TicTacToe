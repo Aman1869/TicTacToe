{
  "nbformat": 4,
  "nbformat_minor": 0,
  "metadata": {
    "colab": {
      "provenance": [],
      "gpuType": "T4",
      "authorship_tag": "ABX9TyOO65/OpZ75b53i8JY1y2VF",
      "include_colab_link": true
    },
    "kernelspec": {
      "name": "python3",
      "display_name": "Python 3"
    },
    "language_info": {
      "name": "python"
    },
    "accelerator": "GPU"
  },
  "cells": [
    {
      "cell_type": "markdown",
      "metadata": {
        "id": "view-in-github",
        "colab_type": "text"
      },
      "source": [
        "<a href=\"https://colab.research.google.com/github/Aman1869/TicTacToe/blob/main/TicTacToe.ipynb\" target=\"_parent\"><img src=\"https://colab.research.google.com/assets/colab-badge.svg\" alt=\"Open In Colab\"/></a>"
      ]
    },
    {
      "cell_type": "code",
      "execution_count": 3,
      "metadata": {
        "id": "hLFtthdHhoO6"
      },
      "outputs": [],
      "source": [
        "from IPython.display import clear_output\n",
        "def display_board(board):\n",
        "  clear_output()\n",
        "  print('   |   |')\n",
        "  print(' ' + board[7] + ' | ' + board[8] + ' | ' + board[9])\n",
        "  print('   |   |')\n",
        "  print('-----------')\n",
        "  print('   |   |')\n",
        "  print(' ' + board[4] + ' | ' + board[5] + ' | ' + board[6])\n",
        "  print('   |   |')\n",
        "  print('-----------')\n",
        "  print('   |   |')\n",
        "  print(' ' + board[1] + ' | ' + board[2] + ' | ' + board[3])\n",
        "  print('   |   |')\n"
      ]
    },
    {
      "cell_type": "code",
      "source": [
        "test_board = ['#','X','O','X','O','X','O','X','O','X']\n",
        "display_board(test_board)"
      ],
      "metadata": {
        "colab": {
          "base_uri": "https://localhost:8080/"
        },
        "id": "DbpzWEZPkjr0",
        "outputId": "915c765b-923d-4ddd-ef2e-9283c98249ab"
      },
      "execution_count": 4,
      "outputs": [
        {
          "output_type": "stream",
          "name": "stdout",
          "text": [
            "   |   |\n",
            " X | O | X\n",
            "   |   |\n",
            "-----------\n",
            "   |   |\n",
            " O | X | O\n",
            "   |   |\n",
            "-----------\n",
            "   |   |\n",
            " X | O | X\n",
            "   |   |\n"
          ]
        }
      ]
    },
    {
      "cell_type": "code",
      "source": [
        "def player_input():\n",
        "  marker=''\n",
        "  while not(marker=='X' or marker=='O'):\n",
        "    marker=input(\"Player 1. Enter X or O:\").upper()\n",
        "    if(marker=='X'):\n",
        "      return('X','O')\n",
        "    else:\n",
        "      return('O','X')"
      ],
      "metadata": {
        "id": "9EWNMCw3ks35"
      },
      "execution_count": 5,
      "outputs": []
    },
    {
      "cell_type": "code",
      "source": [
        "player_input()"
      ],
      "metadata": {
        "colab": {
          "base_uri": "https://localhost:8080/"
        },
        "id": "u6FpZjcYmmTe",
        "outputId": "8a0108e7-bbf5-49dd-aafa-044080beb33c"
      },
      "execution_count": 6,
      "outputs": [
        {
          "name": "stdout",
          "output_type": "stream",
          "text": [
            "Player 1. Enter X or O:X\n"
          ]
        },
        {
          "output_type": "execute_result",
          "data": {
            "text/plain": [
              "('X', 'O')"
            ]
          },
          "metadata": {},
          "execution_count": 6
        }
      ]
    },
    {
      "cell_type": "code",
      "source": [
        "def place_marker(board,marker,position):\n",
        "  board[position]=marker"
      ],
      "metadata": {
        "id": "AZfao9ZxmoXV"
      },
      "execution_count": 7,
      "outputs": []
    },
    {
      "cell_type": "code",
      "source": [
        "place_marker(test_board,'$',8)\n",
        "display_board(test_board)"
      ],
      "metadata": {
        "colab": {
          "base_uri": "https://localhost:8080/"
        },
        "id": "KrUSz8mOnEYh",
        "outputId": "1999c8eb-7374-4114-a175-5527043fa70d"
      },
      "execution_count": 8,
      "outputs": [
        {
          "output_type": "stream",
          "name": "stdout",
          "text": [
            "   |   |\n",
            " X | $ | X\n",
            "   |   |\n",
            "-----------\n",
            "   |   |\n",
            " O | X | O\n",
            "   |   |\n",
            "-----------\n",
            "   |   |\n",
            " X | O | X\n",
            "   |   |\n"
          ]
        }
      ]
    },
    {
      "cell_type": "code",
      "source": [
        "def win_check(board,mark):\n",
        "\n",
        "    return ((board[7] == mark and board[8] == mark and board[9] == mark) or # across the top\n",
        "    (board[4] == mark and board[5] == mark and board[6] == mark) or # across the middle\n",
        "    (board[1] == mark and board[2] == mark and board[3] == mark) or # across the bottom\n",
        "    (board[7] == mark and board[4] == mark and board[1] == mark) or # down the middle\n",
        "    (board[8] == mark and board[5] == mark and board[2] == mark) or # down the middle\n",
        "    (board[9] == mark and board[6] == mark and board[3] == mark) or # down the right side\n",
        "    (board[7] == mark and board[5] == mark and board[3] == mark) or # diagonal\n",
        "    (board[9] == mark and board[5] == mark and board[1] == mark)) # diagonal"
      ],
      "metadata": {
        "id": "CWnYWZHMnRLX"
      },
      "execution_count": 9,
      "outputs": []
    },
    {
      "cell_type": "code",
      "source": [
        "win_check(test_board,'X')"
      ],
      "metadata": {
        "colab": {
          "base_uri": "https://localhost:8080/"
        },
        "id": "KeF9C2LWn9V0",
        "outputId": "b7ab4ace-5226-4bd4-f460-452541de6f47"
      },
      "execution_count": 10,
      "outputs": [
        {
          "output_type": "execute_result",
          "data": {
            "text/plain": [
              "True"
            ]
          },
          "metadata": {},
          "execution_count": 10
        }
      ]
    },
    {
      "cell_type": "code",
      "source": [
        "import random\n",
        "def choose_first():\n",
        "  if random.randint(0,1)==0:\n",
        "     return 'Player 1'\n",
        "  else:\n",
        "    return 'Player 2'"
      ],
      "metadata": {
        "id": "RUpgGaLcoFoE"
      },
      "execution_count": 11,
      "outputs": []
    },
    {
      "cell_type": "code",
      "source": [
        "def space_check(board,position):\n",
        "   return board[position]==' '"
      ],
      "metadata": {
        "id": "nGYzBzOKouU0"
      },
      "execution_count": 12,
      "outputs": []
    },
    {
      "cell_type": "code",
      "source": [
        "def full_board_check(board):\n",
        "    for i in range(1,10):\n",
        "        if space_check(board, i):\n",
        "            return False\n",
        "    return True"
      ],
      "metadata": {
        "id": "Di3oKr8TpOAG"
      },
      "execution_count": 13,
      "outputs": []
    },
    {
      "cell_type": "code",
      "source": [
        "def player_choice(board):\n",
        "    position = 0\n",
        "\n",
        "    while position not in [1,2,3,4,5,6,7,8,9] or not space_check(board, position):\n",
        "        position = int(input('Choose your next position: (1-9) '))\n",
        "\n",
        "    return position"
      ],
      "metadata": {
        "id": "rFr6cAh-pgKE"
      },
      "execution_count": 14,
      "outputs": []
    },
    {
      "cell_type": "code",
      "source": [
        "def replay():\n",
        "\n",
        "    return input('Do you want to play again? Enter Yes or No: ').lower().startswith('y')"
      ],
      "metadata": {
        "id": "w1L865F5rAXJ"
      },
      "execution_count": 15,
      "outputs": []
    },
    {
      "cell_type": "code",
      "source": [
        "print('Welcome to Tic Tac Toe!')\n",
        "\n",
        "while True:\n",
        "    # Reset the board\n",
        "    theBoard = [' '] * 10\n",
        "    player1_marker, player2_marker = player_input()\n",
        "    turn = choose_first()\n",
        "    print(turn + ' will go first.')\\\n",
        "\n",
        "    play_game = input('Are you ready to play? Enter Yes or No.')\n",
        "\n",
        "    if play_game.lower()[0] == 'y':\n",
        "        game_on = True\n",
        "    else:\n",
        "        game_on = False\n",
        "\n",
        "    while game_on:\n",
        "        if turn == 'Player 1':\n",
        "            # Player1's turn.\n",
        "\n",
        "            display_board(theBoard)\n",
        "            position = player_choice(theBoard)\n",
        "            place_marker(theBoard, player1_marker, position)\n",
        "\n",
        "            if win_check(theBoard, player1_marker):\n",
        "                display_board(theBoard)\n",
        "                print('Congratulations! You have won the game!')\n",
        "                game_on = False\n",
        "            else:\n",
        "                if full_board_check(theBoard):\n",
        "                    display_board(theBoard)\n",
        "                    print('The game is a draw!')\n",
        "                    break\n",
        "                else:\n",
        "                    turn = 'Player 2'\n",
        "\n",
        "        else:\n",
        "            # Player2's turn.\n",
        "\n",
        "            display_board(theBoard)\n",
        "            position = player_choice(theBoard)\n",
        "            place_marker(theBoard, player2_marker, position)\n",
        "\n",
        "            if win_check(theBoard, player2_marker):\n",
        "                display_board(theBoard)\n",
        "                print('Player 2 has won!')\n",
        "                game_on = False\n",
        "            else:\n",
        "                if full_board_check(theBoard):\n",
        "                    display_board(theBoard)\n",
        "                    print('The game is a draw!')\n",
        "                    break\n",
        "                else:\n",
        "                    turn = 'Player 1'\n",
        "\n",
        "    if not replay():\n",
        "        break"
      ],
      "metadata": {
        "colab": {
          "base_uri": "https://localhost:8080/"
        },
        "id": "7Tz5fWZ9wfvM",
        "outputId": "f8ef29da-fa00-4c17-c7cd-483deef14dd2"
      },
      "execution_count": 16,
      "outputs": [
        {
          "name": "stdout",
          "output_type": "stream",
          "text": [
            "   |   |\n",
            "   |   | X\n",
            "   |   |\n",
            "-----------\n",
            "   |   |\n",
            " O | O | O\n",
            "   |   |\n",
            "-----------\n",
            "   |   |\n",
            " O | X | X\n",
            "   |   |\n",
            "Player 2 has won!\n",
            "Do you want to play again? Enter Yes or No: No\n"
          ]
        }
      ]
    },
    {
      "cell_type": "code",
      "source": [],
      "metadata": {
        "id": "3z0_p_mrwsE7"
      },
      "execution_count": 16,
      "outputs": []
    }
  ]
}